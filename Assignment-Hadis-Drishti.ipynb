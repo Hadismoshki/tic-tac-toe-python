{
 "cells": [
  {
   "cell_type": "markdown",
   "metadata": {},
   "source": [
    "# Weekly Assignment 4"
   ]
  },
  {
   "cell_type": "markdown",
   "metadata": {},
   "source": [
    "**1)** The following reset() function returns 9 spaces ' ' (use it to reset the board when required). Add a proper description to it."
   ]
  },
  {
   "cell_type": "code",
   "execution_count": 120,
   "metadata": {},
   "outputs": [],
   "source": [
    "def reset():\n",
    "    \"\"\"\n",
    "    This function returns a list of 9 spaces in order to reset the tic tac toe board.\n",
    "    \"\"\"\n",
    "    return ([\" \",\" \",\" \",\" \",\" \", \" \", \" \", \" \", \" \"])"
   ]
  },
  {
   "cell_type": "markdown",
   "metadata": {},
   "source": [
    "**2)** Write a function that takes 9 input variables and prints a board accordingly. Each input variable is a String ('X', 'O', or ' '), so you can display a 3 by 3 board. Use spaces, '-'s, and '|'s to print the board."
   ]
  },
  {
   "cell_type": "code",
   "execution_count": 121,
   "metadata": {},
   "outputs": [],
   "source": [
    "def show_board(board: list) -> list:   \n",
    "    \"\"\"\n",
    "    This function displays the board. \n",
    "    \"\"\"\n",
    "    #print the whole board \n",
    "    print(\"   |   |   \")\n",
    "    print(board[0] + \"  | \" + board[1] + \" | \" + board[2])\n",
    "    print(\"   |   |   \")\n",
    "    print(\"-----------\")\n",
    "    print(\"   |   |   \")\n",
    "    print(board[3] + \"  | \" + board[4] + \" | \" + board[5])\n",
    "    print(\"   |   |   \")\n",
    "    print(\"-----------\")\n",
    "    print(\"   |   |   \")\n",
    "    print(board[6] + \"  | \" + board[7] + \" | \" + board[8])\n",
    "    print(\"   |   |   \") "
   ]
  },
  {
   "cell_type": "markdown",
   "metadata": {},
   "source": [
    "**Test:** run show_board to check out the displayed board list!"
   ]
  },
  {
   "cell_type": "code",
   "execution_count": 122,
   "metadata": {
    "scrolled": true
   },
   "outputs": [
    {
     "name": "stdout",
     "output_type": "stream",
     "text": [
      "   |   |   \n",
      "X  |   | O\n",
      "   |   |   \n",
      "-----------\n",
      "   |   |   \n",
      "X  | X | X\n",
      "   |   |   \n",
      "-----------\n",
      "   |   |   \n",
      "O  | O | O\n",
      "   |   |   \n"
     ]
    }
   ],
   "source": [
    "show_board([\"X\", \" \", \"O\", \"X\", \"X\", \"X\", \"O\", \"O\", \"O\"])"
   ]
  },
  {
   "cell_type": "raw",
   "metadata": {},
   "source": [
    "Output should look like:\n",
    "   |   |\n",
    " X |   | O\n",
    "   |   |\n",
    "-----------\n",
    "   |   |\n",
    " X | X | X\n",
    "   |   |\n",
    "-----------\n",
    "   |   |\n",
    " O | O | O\n",
    "   |   |\n",
    "If not, make adjustments to your show_board function!"
   ]
  },
  {
   "cell_type": "markdown",
   "metadata": {},
   "source": [
    "**3)** Write a function that takes 9 variables, a marker ('X' or 'O'), and an index i. Then assigns the marker to the ith empty place in the board."
   ]
  },
  {
   "cell_type": "code",
   "execution_count": 123,
   "metadata": {},
   "outputs": [],
   "source": [
    "def set_market(marker: str, i: int, board: list) -> list:  \n",
    "    \"\"\"\n",
    "    This function takes the following parameters: index of a list representing the current board, a string (marker) representing the marker to be set (\"X\" or \"O\") and an index (i) indicating where the marker should be placed. Sets the marker then returns index (0-8) a list representing the new board state \"\n",
    "    \"\"\"\n",
    "    #assign marker to appropriate index on list\n",
    "    board[i-1] = marker\n",
    "    return board"
   ]
  },
  {
   "cell_type": "markdown",
   "metadata": {},
   "source": [
    "**Test:** run the following code to check out the displayed board list!"
   ]
  },
  {
   "cell_type": "code",
   "execution_count": 124,
   "metadata": {},
   "outputs": [
    {
     "name": "stdout",
     "output_type": "stream",
     "text": [
      "   |   |   \n",
      "   |   | X\n",
      "   |   |   \n",
      "-----------\n",
      "   |   |   \n",
      "   |   |  \n",
      "   |   |   \n",
      "-----------\n",
      "   |   |   \n",
      "   |   |  \n",
      "   |   |   \n"
     ]
    }
   ],
   "source": [
    "board = reset()\n",
    "board = set_market(\"X\", 3, board)\n",
    "board = show_board(board)"
   ]
  },
  {
   "cell_type": "raw",
   "metadata": {},
   "source": [
    "Output should look like:\n",
    "   |   |\n",
    "   |   | X\n",
    "   |   |\n",
    "-----------\n",
    "   |   |\n",
    "   |   |  \n",
    "   |   |\n",
    "-----------\n",
    "   |   |\n",
    "   |   |  \n",
    "   |   |\n",
    "If not, make adjustments to your set_market function!"
   ]
  },
  {
   "cell_type": "markdown",
   "metadata": {},
   "source": [
    "**4)** Write a function that takes a board (your nine variables) and a marker ('X' or 'O') then checks to see if a player won: returns True or False."
   ]
  },
  {
   "cell_type": "code",
   "execution_count": 125,
   "metadata": {},
   "outputs": [],
   "source": [
    "def check_win(board: list, marker: str) -> bool:  \n",
    "    \"\"\"\n",
    "    This function checks whether the player has won the game. Returns true if a marker fills a row, column, or diagonal line.  \n",
    "    \"\"\"\n",
    "    #check if all markers in first row are same\n",
    "    if (board[0] == board[1] == board[2] == marker):\n",
    "        return True\n",
    "     #check if all markers in second row are same\n",
    "    elif (board[3] == board[4] == board[5] == marker):\n",
    "        return True \n",
    "     #check if all markers in third row are same\n",
    "    elif (board[6] == board[7] == board[8] == marker):\n",
    "        return True\n",
    "     #check if all markers are the same diagonally\n",
    "    elif (board[0] == board[4] == board[8] == marker):\n",
    "        return True\n",
    "     #check if all markers are the same diagonally\n",
    "    elif (board[2] == board[4] == board[6] == marker):\n",
    "        return True\n",
    "     #check if all markers in first column are same\n",
    "    elif (board[0] == board[3] == board[6] == marker):\n",
    "        return True\n",
    "     #check if all markers in second column are same\n",
    "    elif (board[1] == board[4] == board[7] == marker):\n",
    "        return True\n",
    "    #check if all markers in third column are same\n",
    "    elif (board[2] == board[5] == board[8] == marker):\n",
    "        return True \n",
    "    return False"
   ]
  },
  {
   "cell_type": "markdown",
   "metadata": {},
   "source": [
    "**Test:** The following code should return True! If not, adjust your check_win function!"
   ]
  },
  {
   "cell_type": "code",
   "execution_count": 127,
   "metadata": {},
   "outputs": [
    {
     "data": {
      "text/plain": [
       "True"
      ]
     },
     "execution_count": 127,
     "metadata": {},
     "output_type": "execute_result"
    }
   ],
   "source": [
    "board = [\" \",\" \",\" \",\" \",\" \", \" \", \" \", \" \", \" \"]\n",
    "board = set_market(\"X\", 7, board)\n",
    "board = set_market(\"X\", 8, board)\n",
    "board = set_market(\"X\", 9, board)\n",
    "check_win(board, \"X\")"
   ]
  },
  {
   "cell_type": "markdown",
   "metadata": {},
   "source": [
    "**5)** Write a function that takes your board and an index. Then returns True if the ith space is available (i.e., equals to ' ') or False if it is taken."
   ]
  },
  {
   "cell_type": "code",
   "execution_count": 129,
   "metadata": {},
   "outputs": [],
   "source": [
    "def check_free_space(board:list, i: int) -> bool:    \n",
    "    \"\"\"\n",
    "    This function checks if there is free space on the board (list) for the marker to be assigned to that space. It returns True if there is a free space available.\n",
    "    \"\"\"\n",
    "    #check if the chosen place is empty\n",
    "    if (board[i-1] == \" \"):\n",
    "        return True\n",
    "    return False"
   ]
  },
  {
   "cell_type": "markdown",
   "metadata": {},
   "source": [
    "**Test:** The following code should return True! If not, adjust your check_free_space function!"
   ]
  },
  {
   "cell_type": "code",
   "execution_count": 130,
   "metadata": {},
   "outputs": [
    {
     "data": {
      "text/plain": [
       "True"
      ]
     },
     "execution_count": 130,
     "metadata": {},
     "output_type": "execute_result"
    }
   ],
   "source": [
    "board = reset()\n",
    "check_free_space(board, 1)\n",
    "check_free_space(board, 3)"
   ]
  },
  {
   "cell_type": "markdown",
   "metadata": {},
   "source": [
    "**Test:** The following code should return False! If not, adjust your check_free_space function!"
   ]
  },
  {
   "cell_type": "code",
   "execution_count": 131,
   "metadata": {},
   "outputs": [
    {
     "data": {
      "text/plain": [
       "False"
      ]
     },
     "execution_count": 131,
     "metadata": {},
     "output_type": "execute_result"
    }
   ],
   "source": [
    "board = set_market('X', 3, board)\n",
    "check_free_space(board, 3)"
   ]
  },
  {
   "cell_type": "markdown",
   "metadata": {},
   "source": [
    "**6)** Write a function that takes your board returns if the board is full (True) or not (False)."
   ]
  },
  {
   "cell_type": "code",
   "execution_count": 132,
   "metadata": {},
   "outputs": [],
   "source": [
    "def board_is_full(board:list) -> bool:\n",
    "    \"\"\"\n",
    "    This function checks whether the board is full to signal if the game is a draw. When the board is full, it returns True.\n",
    "    \"\"\"\n",
    "    #check if the board is full, if board is full returns true, otherwise false\n",
    "    for i in range (0,9):\n",
    "        if (check_free_space(board, i) == True):\n",
    "            return False \n",
    "    return True"
   ]
  },
  {
   "cell_type": "markdown",
   "metadata": {},
   "source": [
    "**7)** Now, use your functions that you implemented in steps 1 - 6 to implement the game!"
   ]
  },
  {
   "cell_type": "code",
   "execution_count": null,
   "metadata": {},
   "outputs": [
    {
     "name": "stdout",
     "output_type": "stream",
     "text": [
      "Tic Tac Toe starts now!\n",
      "-----------------------\n",
      "--------Welcome!-------\n",
      "-----------------------\n",
      "X starts!\n",
      "   |   |   \n",
      "   |   |  \n",
      "   |   |   \n",
      "-----------\n",
      "   |   |   \n",
      "   |   |  \n",
      "   |   |   \n",
      "-----------\n",
      "   |   |   \n",
      "   |   |  \n",
      "   |   |   \n"
     ]
    }
   ],
   "source": [
    "#print Welcome message\n",
    "print('Tic Tac Toe starts now!')\n",
    "print('-----------------------')\n",
    "print('--------Welcome!-------')\n",
    "print('-----------------------')\n",
    "\n",
    "#reset the board to empty spaces\n",
    "board = reset()\n",
    "\n",
    "#set first and second player markers to X and O\n",
    "first_player_mark = 'X'\n",
    "second_player_mark = 'O'\n",
    "\n",
    "#print first players marker and ask to start\n",
    "print(first_player_mark + ' starts!')\n",
    "\n",
    "#set first turn to the first player\n",
    "player_turn = first_player_mark\n",
    "\n",
    "#continue_game equals to True while game continues. set it to False where a player wins or they draw to stop the while loop!\n",
    "continue_game = True\n",
    "\n",
    "#main while loop of the game\n",
    "while continue_game:        \n",
    "        #display the board\n",
    "        show_board(board)\n",
    "        #ask player to enter a number between 1-9 \n",
    "        input_number= input (\"Enter the number 1-9 you want to put your mark?\")\n",
    "        i = int(input_number)\n",
    "        #check if the number is between 1-9\n",
    "        if (i >= 1 and i < 10):\n",
    "            #check if the place is free \n",
    "            if (check_free_space(board, i) == True):\n",
    "                #set the marker to its place\n",
    "                board = set_market(player_turn, i, board)\n",
    "                #check if there is a win or draw\n",
    "                if (check_win(board, player_turn)):\n",
    "                    print(\"Yay, the player: {}, you won!\".format(player_turn))\n",
    "                    show_board(board)\n",
    "                    continue_game = False\n",
    "                #check if the board if full to signal a draw \n",
    "                if (board_is_full(board) and check_win(board, player_turn)!= True):\n",
    "                    print(\"Draw!restrat the game. \")\n",
    "                    print(\"Draw!\")\n",
    "                    show_board(board)\n",
    "                    continue_game = False\n",
    "                #switch the player turn and continue the game\n",
    "                if player_turn == first_player_mark:\n",
    "                    player_turn = second_player_mark\n",
    "                elif player_turn == second_player_mark:\n",
    "                    player_turn = first_player_mark\n",
    "            #if player entered a number which is taken\n",
    "            else:\n",
    "                print(\"place taken, try again another number\")\n",
    "        #if player did not entered a number between 1-9\n",
    "        else:\n",
    "            print(\"Number is out of range. Please choose place between 1-9!\")"
   ]
  },
  {
   "cell_type": "code",
   "execution_count": null,
   "metadata": {},
   "outputs": [],
   "source": []
  }
 ],
 "metadata": {
  "kernelspec": {
   "display_name": "Python 3",
   "language": "python",
   "name": "python3"
  },
  "language_info": {
   "codemirror_mode": {
    "name": "ipython",
    "version": 3
   },
   "file_extension": ".py",
   "mimetype": "text/x-python",
   "name": "python",
   "nbconvert_exporter": "python",
   "pygments_lexer": "ipython3",
   "version": "3.8.5"
  }
 },
 "nbformat": 4,
 "nbformat_minor": 2
}
